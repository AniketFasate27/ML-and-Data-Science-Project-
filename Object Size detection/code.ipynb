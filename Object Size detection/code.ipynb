{
 "cells": [
  {
   "cell_type": "code",
   "execution_count": 2,
   "metadata": {},
   "outputs": [],
   "source": [
    "import  cv2\n",
    "import utlis\n"
   ]
  },
  {
   "cell_type": "code",
   "execution_count": 3,
   "metadata": {},
   "outputs": [
    {
     "ename": "KeyboardInterrupt",
     "evalue": "",
     "output_type": "error",
     "traceback": [
      "\u001b[1;31m---------------------------------------------------------------------------\u001b[0m",
      "\u001b[1;31mKeyboardInterrupt\u001b[0m                         Traceback (most recent call last)",
      "Cell \u001b[1;32mIn[3], line 10\u001b[0m\n\u001b[0;32m      8\u001b[0m wP \u001b[39m=\u001b[39m \u001b[39m210\u001b[39m \u001b[39m*\u001b[39m scale\n\u001b[0;32m      9\u001b[0m \u001b[39mwhile\u001b[39;00m \u001b[39mTrue\u001b[39;00m:\n\u001b[1;32m---> 10\u001b[0m  \u001b[39mif\u001b[39;00m webcam:success,img \u001b[39m=\u001b[39m cap\u001b[39m.\u001b[39mread()\n\u001b[0;32m     11\u001b[0m  \u001b[39melse\u001b[39;00m: img \u001b[39m=\u001b[39m cv2\u001b[39m.\u001b[39mimread(path)\n\u001b[0;32m     13\u001b[0m imgContours , conts \u001b[39m=\u001b[39m utlis\u001b[39m.\u001b[39mgetContours(img,minArea\u001b[39m=\u001b[39m\u001b[39m50000\u001b[39m,\u001b[39mfilter\u001b[39m\u001b[39m=\u001b[39m\u001b[39m4\u001b[39m)\n",
      "\u001b[1;31mKeyboardInterrupt\u001b[0m: "
     ]
    }
   ],
   "source": [
    "webcam = True\n",
    "path = '1.jpg'\n",
    "cap = cv2.VideoCapture(0)\n",
    "cap.set(10,160)\n",
    "cap.set(3,1920)\n",
    "cap.set(4,1080)\n",
    "scale = 3\n",
    "wP = 210 * scale\n",
    "while True:\n",
    " if webcam:success,img = cap.read()\n",
    " else: img = cv2.imread(path)\n",
    "\n",
    "imgContours , conts = utlis.getContours(img,minArea=50000,filter=4)\n",
    "if len(conts) !=0:\n",
    "    biggest = conts[0][2]\n",
    "    #print(biggest)\n",
    "    imgWarp = utlis.warpImg(img, biggest, wP, hP)\n",
    "    imgContours, conts2 = utlis.getContours(imgWarp, minArea=2000, filter=4, cThr=[50,50], draw = False)\n",
    "    cv2.imshow('A4', imgContours2)\n",
    "    \n",
    "img = cv2.resize(img,(0,0),None,0.5,0.5)\n",
    "cv2.imshow('Original',img)\n",
    "cv2.waitKey(1)\n"
   ]
  }
 ],
 "metadata": {
  "kernelspec": {
   "display_name": "aniket",
   "language": "python",
   "name": "python3"
  },
  "language_info": {
   "codemirror_mode": {
    "name": "ipython",
    "version": 3
   },
   "file_extension": ".py",
   "mimetype": "text/x-python",
   "name": "python",
   "nbconvert_exporter": "python",
   "pygments_lexer": "ipython3",
   "version": "3.8.13"
  },
  "orig_nbformat": 4
 },
 "nbformat": 4,
 "nbformat_minor": 2
}
