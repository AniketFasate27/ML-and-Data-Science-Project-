{
 "cells": [
  {
   "cell_type": "code",
   "execution_count": 1,
   "metadata": {},
   "outputs": [],
   "source": [
    "from rembg import remove\n",
    "from PIL import Image\n",
    "import easygui as eg\n",
    "input_path = eg.fileopenbox(title='C:/Users/anifa/Desktop/GITB/ML-and-Data-Science-Project-/Object Size detection/Baground remover/2.jpeg')\n",
    "output_path = eg.filesavebox(title='C:/Users/anifa/Desktop/GITB/ML-and-Data-Science-Project-/Object Size detection/Baground remover/')\n",
    "input = Image.open(input_path)\n",
    "output =  remove(input)\n",
    "out.save(output_path)"
   ]
  },
  {
   "cell_type": "code",
   "execution_count": null,
   "metadata": {},
   "outputs": [
    {
     "name": "stdout",
     "output_type": "stream",
     "text": [
      "Collecting easygui\n",
      "  Downloading easygui-0.98.3-py2.py3-none-any.whl (92 kB)\n",
      "     ---------------------------------------- 0.0/92.7 kB ? eta -:--:--\n",
      "     ---------------------------------------- 92.7/92.7 kB 2.7 MB/s eta 0:00:00\n",
      "Installing collected packages: easygui\n",
      "Successfully installed easygui-0.98.3\n",
      "Note: you may need to restart the kernel to use updated packages.\n"
     ]
    }
   ],
   "source": [
    "pip install easygui"
   ]
  }
 ],
 "metadata": {
  "kernelspec": {
   "display_name": "aniket",
   "language": "python",
   "name": "python3"
  },
  "language_info": {
   "codemirror_mode": {
    "name": "ipython",
    "version": 3
   },
   "file_extension": ".py",
   "mimetype": "text/x-python",
   "name": "python",
   "nbconvert_exporter": "python",
   "pygments_lexer": "ipython3",
   "version": "3.8.13"
  }
 },
 "nbformat": 4,
 "nbformat_minor": 2
}
