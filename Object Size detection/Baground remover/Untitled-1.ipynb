{
 "cells": [
  {
   "cell_type": "code",
   "execution_count": null,
   "metadata": {},
   "outputs": [],
   "source": [
    "from rembg import remove\n",
    "from PIL import Image\n",
    "import easygui as eg\n",
    "input_path = eg.fileopenbox(title='C:/Users/anifa/Desktop/GITB/ML-and-Data-Science-Project-/Object Size detection/Baground remover/2.jpeg')\n",
    "output_path = eg.filesavebox(title='C:/Users/anifa/Desktop/GITB/ML-and-Data-Science-Project-/Object Size detection/Baground remover/')\n",
    "input = Image.open(input_path)\n",
    "output =  remove(input)\n",
    "out.save(output_path)"
   ]
  }
 ],
 "metadata": {
  "language_info": {
   "name": "python"
  }
 },
 "nbformat": 4,
 "nbformat_minor": 2
}
