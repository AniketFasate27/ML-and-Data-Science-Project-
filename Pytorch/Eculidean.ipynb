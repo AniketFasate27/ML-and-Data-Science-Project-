{
 "cells": [
  {
   "cell_type": "code",
   "execution_count": 2,
   "metadata": {},
   "outputs": [
    {
     "name": "stdout",
     "output_type": "stream",
     "text": [
      "Euclidean Distance b/w (1, 2, 3) and (7, 8, 9) is:  10.392304845413264\n"
     ]
    }
   ],
   "source": [
    "#importing the library \n",
    "from scipy.spatial import distance\n",
    "\n",
    "#defining th points\n",
    "point_1 = (1,2,3)\n",
    "point_2 = (7,8,9)\n",
    "point_1, point_2\n",
    "\n",
    "#computing the euclidean distance\n",
    "euclidean_distance = distance.euclidean(point_1,point_2)\n",
    "print('Euclidean Distance b/w', point_1, 'and', point_2, 'is: ', euclidean_distance)"
   ]
  },
  {
   "cell_type": "code",
   "execution_count": null,
   "metadata": {},
   "outputs": [],
   "source": []
  }
 ],
 "metadata": {
  "kernelspec": {
   "display_name": "aniket",
   "language": "python",
   "name": "python3"
  },
  "language_info": {
   "codemirror_mode": {
    "name": "ipython",
    "version": 3
   },
   "file_extension": ".py",
   "mimetype": "text/x-python",
   "name": "python",
   "nbconvert_exporter": "python",
   "pygments_lexer": "ipython3",
   "version": "3.8.13"
  },
  "orig_nbformat": 4
 },
 "nbformat": 4,
 "nbformat_minor": 2
}
