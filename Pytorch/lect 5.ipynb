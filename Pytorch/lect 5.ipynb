{
 "cells": [
  {
   "cell_type": "code",
   "execution_count": 12,
   "metadata": {},
   "outputs": [],
   "source": [
    "# Gradient Descent with Autograd and Backpropagation\n",
    "#To understand this tutorial we have to know about the linear regression"
   ]
  },
  {
   "cell_type": "code",
   "execution_count": 13,
   "metadata": {},
   "outputs": [],
   "source": [
    "import numpy as np\n"
   ]
  },
  {
   "cell_type": "code",
   "execution_count": 22,
   "metadata": {},
   "outputs": [
    {
     "name": "stdout",
     "output_type": "stream",
     "text": [
      "Predication before training: f(5) = 0.000\n",
      "epoch 1: w = 1.200, loss = 30.00000000\n",
      "epoch 2: w = 1.680, loss = 4.79999924\n",
      "epoch 3: w = 1.872, loss = 0.76800019\n",
      "epoch 4: w = 1.949, loss = 0.12288000\n",
      "epoch 5: w = 1.980, loss = 0.01966083\n",
      "epoch 6: w = 1.992, loss = 0.00314574\n",
      "epoch 7: w = 1.997, loss = 0.00050331\n",
      "epoch 8: w = 1.999, loss = 0.00008053\n",
      "epoch 9: w = 1.999, loss = 0.00001288\n",
      "epoch 10: w = 2.000, loss = 0.00000206\n",
      "Predication after training: f(5) = 9.999\n"
     ]
    }
   ],
   "source": [
    "# linear regression :- we are creating the function having the linear combination of some weights and our inputs \n",
    "#  we dont care about the bias here\n",
    "\n",
    "# f = w * x #function linear combination of the some weights and inputs (negelcting the Bias) \n",
    "# f = 2 * x  #weight = 2\n",
    "X = np.array([1, 2, 3, 4], dtype=np.float32) #creating data type\n",
    "Y = np.array([2, 4, 6, 8], dtype=np.float32)\n",
    "\n",
    "w = 0.0 #initiliaze the weight\n",
    "\n",
    "#model prediction\n",
    "def forward(x): \n",
    "    return w * x #forward pass\n",
    "\n",
    "\n",
    "#loss\n",
    "def loss(y, y_predicated):\n",
    "    return ((y_predicated - y)**2).mean() #loss = MSE, We calclate the loss\n",
    "\n",
    "#gradient (manually calculation of the gradient of the loss )\n",
    "#MSE = 1/N * (w*X - y)**2 #Mean Square Error\n",
    "#dJ/dw = 1/N 2x (w*x - y) #derivative of the MSE\n",
    "\n",
    "def gradient(x,y, y_predicted):\n",
    "    return np.dot(2*x, y_predicted-y).mean()\n",
    "\n",
    "print(f'Predication before training: f(5) = {forward(5):.3f}')\n",
    "\n",
    "#Training\n",
    "learning_rate = 0.01\n",
    "n_iters = 10\n",
    "\n",
    "for epoch in range(n_iters):\n",
    "    #prediction = forward pass\n",
    "    y_pred = forward(X)\n",
    "\n",
    "    #loss\n",
    "    l = loss(Y, y_pred)\n",
    "\n",
    "    #gradients\n",
    "    dw = gradient(X,Y,y_pred)\n",
    "\n",
    "    #update weights\n",
    "    w -= learning_rate * dw\n",
    "\n",
    "    if epoch % 1 == 0:\n",
    "        print(f'epoch {epoch+1}: w = {w:.3f}, loss = {l:.8f}')\n",
    "\n",
    "print(f'Predication after training: f(5) = {forward(5):.3f}')"
   ]
  },
  {
   "cell_type": "code",
   "execution_count": null,
   "metadata": {},
   "outputs": [],
   "source": [
    "# linear regression :- we are creating the function having the linear combination of some weights and our inputs \n",
    "#  we dont care about the bias here\n",
    "\n",
    "# f = w * x #function linear combination of the some weights and inputs (negelcting the Bias) \n",
    "# f = 2 * x  #weight = 2\n",
    "X = np.array([1, 2, 3, 4], dtype=np.float32) #creating data type\n",
    "Y = np.array([2, 4, 6, 8], dtype=np.float32)\n",
    "\n",
    "w = 0.0 #initiliaze the weight\n",
    "\n",
    "#model prediction\n",
    "def forward(x): \n",
    "    return w * x #forward pass\n",
    "\n",
    "\n",
    "#loss\n",
    "def loss(y, y_predicated):\n",
    "    return ((y_predicated - y)**2).mean() #loss = MSE, We calclate the loss\n",
    "\n",
    "#gradient (manually calculation of the gradient of the loss )\n",
    "#MSE = 1/N * (w*X - y)**2 #Mean Square Error\n",
    "#dJ/dw = 1/N 2x (w*x - y) #derivative of the MSE\n",
    "\n",
    "def gradient(x,y, y_predicted):\n",
    "    return np.dot(2*x, y_predicted-y).mean()\n",
    "\n",
    "print(f'Predication before training: f(5) = {forward(5):.3f}')\n",
    "\n",
    "#Training\n",
    "learning_rate = 0.01\n",
    "n_iters = 10\n",
    "\n",
    "for epoch in range(n_iters):\n",
    "    #prediction = forward pass\n",
    "    y_pred = forward(X)\n",
    "\n",
    "    #loss\n",
    "    l = loss(Y, y_pred)\n",
    "\n",
    "    #gradients\n",
    "    dw = gradient(X,Y,y_pred)\n",
    "\n",
    "    #update weights\n",
    "    w -= learning_rate * dw\n",
    "\n",
    "    if epoch % l == 0:\n",
    "        print(f'epoch {epoch+1}: w = {w:.3f}, loss = {l:.8f}')\n",
    "\n",
    "    print(f'Predication after training: f(5) = {forward(5):.3f}')"
   ]
  }
 ],
 "metadata": {
  "kernelspec": {
   "display_name": "aniket",
   "language": "python",
   "name": "python3"
  },
  "language_info": {
   "codemirror_mode": {
    "name": "ipython",
    "version": 3
   },
   "file_extension": ".py",
   "mimetype": "text/x-python",
   "name": "python",
   "nbconvert_exporter": "python",
   "pygments_lexer": "ipython3",
   "version": "3.8.13"
  },
  "orig_nbformat": 4
 },
 "nbformat": 4,
 "nbformat_minor": 2
}
