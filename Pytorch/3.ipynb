{
 "cells": [
  {
   "attachments": {},
   "cell_type": "markdown",
   "metadata": {},
   "source": []
  },
  {
   "cell_type": "code",
   "execution_count": 22,
   "metadata": {},
   "outputs": [],
   "source": [
    "import torch"
   ]
  },
  {
   "cell_type": "code",
   "execution_count": 23,
   "metadata": {},
   "outputs": [
    {
     "name": "stdout",
     "output_type": "stream",
     "text": [
      "tensor([-1.0328, -1.9608, -0.1143,  0.4928, -0.1418], requires_grad=True)\n",
      "tensor([0.9672, 0.0392, 1.8857, 2.4928, 1.8582], grad_fn=<AddBackward0>)\n",
      "tensor(5.6639, grad_fn=<MeanBackward0>)\n",
      "tensor([0.7737, 0.0314, 1.5086, 1.9942, 1.4866])\n"
     ]
    }
   ],
   "source": [
    "x = torch.randn(5, requires_grad=True)\n",
    "print(x)\n",
    "y = x + 2\n",
    "print(y)\n",
    "\n",
    "z = y*y*2 \n",
    "z = z.mean() #for mean backward \n",
    "print(z)\n",
    "\n",
    "\n",
    "z.backward() #dz/dx\n",
    "# jacobin matrix with partial derivatives and the we multiply with gradeint vector.\n",
    "# Its also calle the chain rule \n",
    "print(x.grad)\n",
    "# Sinc our Z is a scaler value we dont have to used agument here for the backward function."
   ]
  },
  {
   "cell_type": "code",
   "execution_count": 24,
   "metadata": {},
   "outputs": [
    {
     "name": "stdout",
     "output_type": "stream",
     "text": [
      "tensor([ 1.6220,  0.9297,  0.4727,  0.5040, -0.6454], requires_grad=True)\n",
      "tensor([3.6220, 2.9297, 2.4727, 2.5040, 1.3546], grad_fn=<AddBackward0>)\n",
      "tensor([26.2384, 17.1668, 12.2280, 12.5402,  3.6700], grad_fn=<MulBackward0>)\n",
      "tensor([1.4488e+00, 1.1719e+01, 9.8906e-03, 1.0016e+00, 5.4185e-03])\n"
     ]
    }
   ],
   "source": [
    "#  If Z has more than one value\n",
    "x = torch.randn(5, requires_grad=True)\n",
    "print(x)\n",
    "y = x + 2\n",
    "print(y)\n",
    "\n",
    "z = y*y*2\n",
    "print(z)\n",
    "v = torch.tensor([0.1, 1.0, 0.001,0.1,0.001], dtype=torch.float32) #\n",
    "z.backward(v) #dz/dx\n",
    "print(x.grad)"
   ]
  },
  {
   "cell_type": "code",
   "execution_count": 25,
   "metadata": {},
   "outputs": [
    {
     "name": "stdout",
     "output_type": "stream",
     "text": [
      "tensor([-0.0779, -0.3162,  1.4544,  0.9580, -0.7873], requires_grad=True)\n",
      "tensor([-0.0779, -0.3162,  1.4544,  0.9580, -0.7873])\n",
      "tensor([-0.0779, -0.3162,  1.4544,  0.9580, -0.7873])\n",
      "tensor([1.9221, 1.6838, 3.4544, 2.9580, 1.2127])\n"
     ]
    }
   ],
   "source": [
    "# how to prevent the pytorch to tracking the history and calculating the gredeint FM attribute\n",
    "# so some times during our training our lopp when we want to update our weights \n",
    "# then this operation should not be part of the gradeint computation\n",
    "\n",
    "x = torch.randn(5, requires_grad=True)\n",
    "print(x)\n",
    "\n",
    "#we have three option to do \n",
    "# x.requires_grad_(False) #option 1\n",
    "# x.detach() #option 2\n",
    "# with torch.no_grad(): #option 3\n",
    "\n",
    "x.requires_grad_(False)\n",
    "print(x)\n",
    "\n",
    "y = x.detach()\n",
    "print(y)\n",
    "\n",
    "with torch.no_grad():\n",
    "    y = x + 2\n",
    "    print(y)"
   ]
  },
  {
   "cell_type": "code",
   "execution_count": 26,
   "metadata": {},
   "outputs": [
    {
     "name": "stdout",
     "output_type": "stream",
     "text": [
      "tensor([3., 3., 3., 3.])\n",
      "tensor([3., 3., 3., 3.])\n",
      "tensor([3., 3., 3., 3.])\n"
     ]
    }
   ],
   "source": [
    "# Creating Dummy training example \n",
    "weights = torch.ones(4, requires_grad = True) #creating weights\n",
    "for epoch in range(3): \n",
    "    model_output = (weights*3).sum()\n",
    "\n",
    "    model_output.backward()\n",
    "\n",
    "    print(weights.grad)\n",
    "    # training loop iteration of 1: tensor([3., 3., 3., 3.])\n",
    "    # training loop iteration of 2: tensor([6., 6., 6., 6.])\n",
    "    # training loop iteration of 3: tensor([9., 9., 9., 9.])\n",
    "    # now our weights or our gradeints are clearly incorrect \n",
    "    # so before doing the next iteration \n",
    "    # We must empyt the gradeint\n",
    "\n",
    "    weights.grad.zero_()"
   ]
  },
  {
   "cell_type": "code",
   "execution_count": 28,
   "metadata": {},
   "outputs": [
    {
     "ename": "TypeError",
     "evalue": "params argument given to the optimizer should be an iterable of Tensors or dicts, but got torch.FloatTensor",
     "output_type": "error",
     "traceback": [
      "\u001b[1;31m---------------------------------------------------------------------------\u001b[0m",
      "\u001b[1;31mTypeError\u001b[0m                                 Traceback (most recent call last)",
      "Cell \u001b[1;32mIn[28], line 3\u001b[0m\n\u001b[0;32m      1\u001b[0m \u001b[39m# Pytorch built in optimizer lets say we have the optimzer from the torch optimization\u001b[39;00m\n\u001b[0;32m      2\u001b[0m weights \u001b[39m=\u001b[39m torch\u001b[39m.\u001b[39mones(\u001b[39m4\u001b[39m, requires_grad \u001b[39m=\u001b[39m \u001b[39mTrue\u001b[39;00m) \u001b[39m#creating weights\u001b[39;00m\n\u001b[1;32m----> 3\u001b[0m optimizer \u001b[39m=\u001b[39m torch\u001b[39m.\u001b[39;49moptim\u001b[39m.\u001b[39;49mSGD(weights, lr\u001b[39m=\u001b[39;49m\u001b[39m0.01\u001b[39;49m)\n\u001b[0;32m      4\u001b[0m optimizer\u001b[39m.\u001b[39mstop()\n\u001b[0;32m      5\u001b[0m optimizer\u001b[39m.\u001b[39mzero_grad()\n",
      "File \u001b[1;32mc:\\Users\\anifa\\.conda\\envs\\aniket\\lib\\site-packages\\torch\\optim\\sgd.py:27\u001b[0m, in \u001b[0;36mSGD.__init__\u001b[1;34m(self, params, lr, momentum, dampening, weight_decay, nesterov, maximize, foreach, differentiable)\u001b[0m\n\u001b[0;32m     25\u001b[0m \u001b[39mif\u001b[39;00m nesterov \u001b[39mand\u001b[39;00m (momentum \u001b[39m<\u001b[39m\u001b[39m=\u001b[39m \u001b[39m0\u001b[39m \u001b[39mor\u001b[39;00m dampening \u001b[39m!=\u001b[39m \u001b[39m0\u001b[39m):\n\u001b[0;32m     26\u001b[0m     \u001b[39mraise\u001b[39;00m \u001b[39mValueError\u001b[39;00m(\u001b[39m\"\u001b[39m\u001b[39mNesterov momentum requires a momentum and zero dampening\u001b[39m\u001b[39m\"\u001b[39m)\n\u001b[1;32m---> 27\u001b[0m \u001b[39msuper\u001b[39;49m()\u001b[39m.\u001b[39;49m\u001b[39m__init__\u001b[39;49m(params, defaults)\n",
      "File \u001b[1;32mc:\\Users\\anifa\\.conda\\envs\\aniket\\lib\\site-packages\\torch\\optim\\optimizer.py:178\u001b[0m, in \u001b[0;36mOptimizer.__init__\u001b[1;34m(self, params, defaults)\u001b[0m\n\u001b[0;32m    175\u001b[0m \u001b[39mself\u001b[39m\u001b[39m.\u001b[39m_patch_step_function()\n\u001b[0;32m    177\u001b[0m \u001b[39mif\u001b[39;00m \u001b[39misinstance\u001b[39m(params, torch\u001b[39m.\u001b[39mTensor):\n\u001b[1;32m--> 178\u001b[0m     \u001b[39mraise\u001b[39;00m \u001b[39mTypeError\u001b[39;00m(\u001b[39m\"\u001b[39m\u001b[39mparams argument given to the optimizer should be \u001b[39m\u001b[39m\"\u001b[39m\n\u001b[0;32m    179\u001b[0m                     \u001b[39m\"\u001b[39m\u001b[39man iterable of Tensors or dicts, but got \u001b[39m\u001b[39m\"\u001b[39m \u001b[39m+\u001b[39m\n\u001b[0;32m    180\u001b[0m                     torch\u001b[39m.\u001b[39mtypename(params))\n\u001b[0;32m    182\u001b[0m \u001b[39mself\u001b[39m\u001b[39m.\u001b[39mstate \u001b[39m=\u001b[39m defaultdict(\u001b[39mdict\u001b[39m)\n\u001b[0;32m    183\u001b[0m \u001b[39mself\u001b[39m\u001b[39m.\u001b[39mparam_groups \u001b[39m=\u001b[39m []\n",
      "\u001b[1;31mTypeError\u001b[0m: params argument given to the optimizer should be an iterable of Tensors or dicts, but got torch.FloatTensor"
     ]
    }
   ],
   "source": [
    "# Pytorch built in optimizer lets say we have the optimzer from the torch optimization\n",
    "weights = torch.ones(4, requires_grad = True) #creating weights\n",
    "optimizer = torch.optim.SGD(weights, lr=0.01)\n",
    "optimizer.stop()\n",
    "optimizer.zero_grad()"
   ]
  },
  {
   "cell_type": "code",
   "execution_count": null,
   "metadata": {},
   "outputs": [],
   "source": []
  }
 ],
 "metadata": {
  "kernelspec": {
   "display_name": "aniket",
   "language": "python",
   "name": "python3"
  },
  "language_info": {
   "codemirror_mode": {
    "name": "ipython",
    "version": 3
   },
   "file_extension": ".py",
   "mimetype": "text/x-python",
   "name": "python",
   "nbconvert_exporter": "python",
   "pygments_lexer": "ipython3",
   "version": "3.8.13"
  },
  "orig_nbformat": 4
 },
 "nbformat": 4,
 "nbformat_minor": 2
}
