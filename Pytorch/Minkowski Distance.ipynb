{
 "cells": [
  {
   "cell_type": "code",
   "execution_count": 3,
   "metadata": {},
   "outputs": [
    {
     "name": "stdout",
     "output_type": "stream",
     "text": [
      "Manhattan Distance b/w (1, 2, 3) and (7, 8, 9) is:  18\n",
      "Minkowski Distance of order 1: 18.0 \n",
      "Manhattan Distance:  18\n"
     ]
    }
   ],
   "source": [
    "#importing the library \n",
    "from scipy.spatial import distance\n",
    "\n",
    "#defining th points\n",
    "point_1 = (1,2,3)\n",
    "point_2 = (7,8,9)\n",
    "point_1, point_2\n",
    "\n",
    "\n",
    "# computing the manhattan distance\n",
    "manhattan_distance = distance.cityblock(point_1, point_2)\n",
    "print('Manhattan Distance b/w', point_1, 'and', point_2, 'is: ', manhattan_distance)\n",
    "\n",
    "# minkowski and manhattan distance\n",
    "minkowski_distance_order_1 = distance.minkowski(point_1, point_2, p=1)\n",
    "print('Minkowski Distance of order 1:',minkowski_distance_order_1, '\\nManhattan Distance: ',manhattan_distance)"
   ]
  },
  {
   "cell_type": "code",
   "execution_count": null,
   "metadata": {},
   "outputs": [],
   "source": []
  }
 ],
 "metadata": {
  "kernelspec": {
   "display_name": "aniket",
   "language": "python",
   "name": "python3"
  },
  "language_info": {
   "codemirror_mode": {
    "name": "ipython",
    "version": 3
   },
   "file_extension": ".py",
   "mimetype": "text/x-python",
   "name": "python",
   "nbconvert_exporter": "python",
   "pygments_lexer": "ipython3",
   "version": "3.8.13"
  },
  "orig_nbformat": 4
 },
 "nbformat": 4,
 "nbformat_minor": 2
}
