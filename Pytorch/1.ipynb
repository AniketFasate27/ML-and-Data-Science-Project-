{
 "cells": [
  {
   "cell_type": "code",
   "execution_count": 33,
   "metadata": {},
   "outputs": [],
   "source": [
    "import torch\n",
    "import numpy as np"
   ]
  },
  {
   "cell_type": "code",
   "execution_count": 34,
   "metadata": {},
   "outputs": [
    {
     "name": "stdout",
     "output_type": "stream",
     "text": [
      "tensor([[[[0.0000e+00, 0.0000e+00, 0.0000e+00, 0.0000e+00],\n",
      "          [0.0000e+00, 4.2246e-39, 1.8788e+31, 1.7220e+22],\n",
      "          [2.1715e-18, 3.3560e-06, 6.5919e-10, 8.3566e+20]],\n",
      "\n",
      "         [[1.7012e-04, 1.3592e+22, 2.1670e-04, 1.3226e-08],\n",
      "          [3.2918e-09, 2.5957e-09, 1.2698e+19, 2.3881e-18],\n",
      "          [3.1360e+27, 7.0800e+31, 3.1095e-18, 4.7851e+22]]],\n",
      "\n",
      "\n",
      "        [[[2.8826e+32, 4.4248e+30, 7.6729e+34, 2.1707e-18],\n",
      "          [4.5447e+30, 7.0062e+22, 2.1715e-18, 4.5447e+30],\n",
      "          [7.0062e+22, 2.1707e-18, 1.9284e+31, 3.2314e-18]],\n",
      "\n",
      "         [[7.4767e+20, 8.4108e+20, 1.0016e-11, 1.6691e+22],\n",
      "          [1.3665e+22, 2.1765e-04, 1.7680e-04, 2.6582e-06],\n",
      "          [5.2354e+22, 2.1707e-18, 7.2128e+22, 2.1715e-18]]]])\n"
     ]
    }
   ],
   "source": [
    "x = torch.empty(2,2,3,4)\n",
    "print(x)"
   ]
  },
  {
   "cell_type": "code",
   "execution_count": 35,
   "metadata": {},
   "outputs": [
    {
     "name": "stdout",
     "output_type": "stream",
     "text": [
      "tensor([[0.2774, 0.5655],\n",
      "        [0.3174, 0.2655]])\n"
     ]
    }
   ],
   "source": [
    "x = torch.rand(2,2)\n",
    "print(x)"
   ]
  },
  {
   "cell_type": "code",
   "execution_count": 36,
   "metadata": {},
   "outputs": [
    {
     "name": "stdout",
     "output_type": "stream",
     "text": [
      "tensor([[1., 1.],\n",
      "        [1., 1.]])\n"
     ]
    }
   ],
   "source": [
    "x = torch.ones(2,2)\n",
    "print(x)"
   ]
  },
  {
   "cell_type": "code",
   "execution_count": 37,
   "metadata": {},
   "outputs": [
    {
     "name": "stdout",
     "output_type": "stream",
     "text": [
      "tensor([[0.7853, 0.1370],\n",
      "        [0.4995, 0.8529]])\n"
     ]
    }
   ],
   "source": [
    "x = torch.rand(2,2)\n",
    "print(x)"
   ]
  },
  {
   "cell_type": "code",
   "execution_count": 38,
   "metadata": {},
   "outputs": [
    {
     "name": "stdout",
     "output_type": "stream",
     "text": [
      "<built-in method size of Tensor object at 0x000001948F560EF0>\n"
     ]
    }
   ],
   "source": [
    "x = torch.rand(2,2, dtype=torch.float16)\n",
    "print(x.size)"
   ]
  },
  {
   "cell_type": "code",
   "execution_count": 39,
   "metadata": {},
   "outputs": [
    {
     "name": "stdout",
     "output_type": "stream",
     "text": [
      "tensor([[0.4180, 0.8362],\n",
      "        [0.6983, 0.5961]])\n",
      "tensor([[0.6281, 0.4404],\n",
      "        [0.4508, 0.7065]])\n",
      "tensor([[1.0461, 1.2766],\n",
      "        [1.1492, 1.3026]])\n"
     ]
    }
   ],
   "source": [
    "x = torch.rand(2,2)\n",
    "y = torch.rand(2,2)\n",
    "print(x)\n",
    "print(y)\n",
    "z = x + y\n",
    "z = torch.add(x,y)\n",
    "print(z)\n",
    "\n"
   ]
  },
  {
   "cell_type": "code",
   "execution_count": 40,
   "metadata": {},
   "outputs": [
    {
     "name": "stdout",
     "output_type": "stream",
     "text": [
      "tensor([[0.1136, 0.8269],\n",
      "        [0.7386, 0.2696]])\n",
      "tensor([[0.2868, 0.8082],\n",
      "        [0.4969, 0.7081]])\n",
      "tensor([[0.4004, 1.6351],\n",
      "        [1.2355, 0.9776]])\n"
     ]
    }
   ],
   "source": [
    "x = torch.rand(2,2)\n",
    "y = torch.rand(2,2)\n",
    "print(x)\n",
    "print(y)\n",
    "y.add_(x)\n",
    "print(y)"
   ]
  },
  {
   "cell_type": "code",
   "execution_count": 41,
   "metadata": {},
   "outputs": [
    {
     "name": "stdout",
     "output_type": "stream",
     "text": [
      "tensor([[0.3830, 0.8237],\n",
      "        [0.2663, 0.2216]])\n",
      "tensor([[0.8993, 0.0478],\n",
      "        [0.8160, 0.7532]])\n",
      "tensor([[1.2823, 0.8715],\n",
      "        [1.0824, 0.9749]])\n"
     ]
    }
   ],
   "source": [
    "x = torch.rand(2,2)\n",
    "y = torch.rand(2,2)\n",
    "print(x)\n",
    "print(y)\n",
    "z = x - y\n",
    "z = torch.add(x,y)\n",
    "print(z)\n"
   ]
  },
  {
   "cell_type": "code",
   "execution_count": 42,
   "metadata": {},
   "outputs": [
    {
     "name": "stdout",
     "output_type": "stream",
     "text": [
      "tensor([[0.4177, 0.1536],\n",
      "        [0.6679, 0.3633]])\n",
      "tensor([[0.9227, 0.4848],\n",
      "        [0.8525, 0.1784]])\n",
      "tensor([[1.3405, 0.6385],\n",
      "        [1.5204, 0.5417]])\n",
      "tensor([[ 0.5050,  0.3312],\n",
      "        [ 0.1847, -0.1849]])\n"
     ]
    }
   ],
   "source": [
    "x = torch.rand(2,2)\n",
    "y = torch.rand(2,2)\n",
    "print(x)\n",
    "print(y)\n",
    "z = x + y\n",
    "z = torch.add(x,y)\n",
    "print(z)\n",
    "y.sub_(x)\n",
    "print(y)\n"
   ]
  },
  {
   "cell_type": "code",
   "execution_count": 43,
   "metadata": {},
   "outputs": [
    {
     "name": "stdout",
     "output_type": "stream",
     "text": [
      "tensor([[0.0763, 0.8030, 0.6426, 0.3121],\n",
      "        [0.4696, 0.6531, 0.3698, 0.9982],\n",
      "        [0.6094, 0.5812, 0.8902, 0.1351],\n",
      "        [0.6500, 0.5481, 0.2304, 0.0028]])\n",
      "tensor([[0.0763, 0.8030, 0.6426, 0.3121, 0.4696, 0.6531, 0.3698, 0.9982],\n",
      "        [0.6094, 0.5812, 0.8902, 0.1351, 0.6500, 0.5481, 0.2304, 0.0028]])\n"
     ]
    }
   ],
   "source": [
    "x = torch.rand(4,4)\n",
    "print(x)\n",
    "y = x.view(-1, 8)\n",
    "print(y)"
   ]
  },
  {
   "cell_type": "code",
   "execution_count": 44,
   "metadata": {},
   "outputs": [
    {
     "name": "stdout",
     "output_type": "stream",
     "text": [
      "[1. 1. 1. 1. 1.]\n",
      "tensor([2., 2., 2., 2., 2.])\n",
      "[2. 2. 2. 2. 2.]\n"
     ]
    }
   ],
   "source": [
    "a = torch.ones(5)\n",
    "b = a.numpy()\n",
    "print(b)\n",
    "\n",
    "a.add_(1)\n",
    "print(a)\n",
    "print(b)"
   ]
  },
  {
   "cell_type": "code",
   "execution_count": 45,
   "metadata": {},
   "outputs": [
    {
     "name": "stdout",
     "output_type": "stream",
     "text": [
      "tensor([1., 1., 1., 1., 1.], dtype=torch.float64)\n"
     ]
    }
   ],
   "source": [
    "a = np.ones(5)\n",
    "b = torch.from_numpy(a)\n",
    "print(b)"
   ]
  },
  {
   "cell_type": "code",
   "execution_count": 51,
   "metadata": {},
   "outputs": [],
   "source": [
    "if torch.cuda.is_available():\n",
    "    device = torch.device(\"cuda\")\n",
    "    x = torch.ones(5, device=device)\n",
    "    y = torch.ones(5)\n",
    "    y = y.to(device)\n",
    "    z = x + y\n",
    "    z = z.to(\"cpu\")\n",
    "    print(z)"
   ]
  },
  {
   "cell_type": "code",
   "execution_count": 52,
   "metadata": {},
   "outputs": [
    {
     "name": "stdout",
     "output_type": "stream",
     "text": [
      "tensor([1., 1., 1., 1., 1.], requires_grad=True)\n"
     ]
    }
   ],
   "source": [
    "x = torch.ones(5, requires_grad=True)\n",
    "print(x)\n"
   ]
  },
  {
   "cell_type": "code",
   "execution_count": null,
   "metadata": {},
   "outputs": [],
   "source": []
  }
 ],
 "metadata": {
  "kernelspec": {
   "display_name": "aniket",
   "language": "python",
   "name": "python3"
  },
  "language_info": {
   "codemirror_mode": {
    "name": "ipython",
    "version": 3
   },
   "file_extension": ".py",
   "mimetype": "text/x-python",
   "name": "python",
   "nbconvert_exporter": "python",
   "pygments_lexer": "ipython3",
   "version": "3.8.13"
  },
  "orig_nbformat": 4
 },
 "nbformat": 4,
 "nbformat_minor": 2
}
